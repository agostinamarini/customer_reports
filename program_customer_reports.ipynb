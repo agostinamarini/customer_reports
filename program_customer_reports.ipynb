{
  "nbformat": 4,
  "nbformat_minor": 0,
  "metadata": {
    "colab": {
      "provenance": []
    },
    "kernelspec": {
      "name": "python3",
      "display_name": "Python 3"
    },
    "language_info": {
      "name": "python"
    }
  },
  "cells": [
    {
      "cell_type": "markdown",
      "source": [
        "# **Reportes automáticos para saldos de clientes**\n",
        "\n",
        " Este programa sirve para **generar reportes** de forma **automática** a partir de un **archivo excel**.\n",
        "\n",
        " Cuando se ejecuta, toma todos los clientes presentes en el archivo y devuelve un PDF con un resumen de su saldo, acompañado por una gráfica y una tabla. Por supuesto, pueden añadirse cálculos y funciones a este código para que el output tenga la complejidad necesaria para su empresa.\n",
        "\n",
        " El excel que aparece como ejemplo ha sido creado por IA, tratándose de distribuidoras y números ficticios. Para realizar el código, trabajé desde **Google Colab**, por lo tanto, las rutas corresponden a mi unidad y carpetas. En caso de emplear otra interfaz, las líneas de **montar google drive** son **innecesarias** y pueden sustituirse por:\n",
        "\n",
        " ▶ *df = pd.read_excel(\"ruta_del_archivo.xlsx\")*"
      ],
      "metadata": {
        "id": "fiIMi6gJL8LR"
      }
    },
    {
      "cell_type": "code",
      "source": [
        "#En caso de no tener estos paquetes, debe instalarlos en su entorno de trabajo.\n",
        "#!pip install pandas plotly jinja2 xhtml2pdf\n",
        "#!pip install -U kaleido"
      ],
      "metadata": {
        "collapsed": true,
        "id": "Z76EbfT8COm-"
      },
      "execution_count": null,
      "outputs": []
    },
    {
      "cell_type": "code",
      "source": [
        "import os\n",
        "import pandas as pd\n",
        "import plotly.express as px\n",
        "from jinja2 import Template, Environment\n",
        "from xhtml2pdf import pisa\n",
        "from datetime import datetime\n",
        "\n",
        "# Crear un filtro personalizado para formatear números con comas\n",
        "def format_number(value):\n",
        "    return f\"{value:,.2f}\"\n",
        "\n",
        "# Cargar el template y registrar el filtro\n",
        "env = Environment()\n",
        "env.filters['format_number'] = format_number\n",
        "\n",
        "# Montar Google Drive\n",
        "from google.colab import drive\n",
        "drive.mount('/content/drive')\n",
        "\n",
        "# Leer archivo\n",
        "ruta = \"/content/drive/MyDrive/Colab Notebooks/ventas_ceramicas.xlsx\"\n",
        "df = pd.read_excel(ruta)\n",
        "\n",
        "# Agregar columna de saldo\n",
        "df[\"Saldo\"] = df[\"Importe\"] - df[\"Pagado\"]\n",
        "clientes = df[\"Cliente\"].unique()\n",
        "\n",
        "# Crear la carpeta en la ubicación correcta\n",
        "reportes_path = \"/content/drive/MyDrive/Colab Notebooks/reportes_clientes\"\n",
        "os.makedirs(reportes_path, exist_ok=True)\n",
        "\n",
        "# Confirmar si la carpeta fue creada correctamente\n",
        "print(f\"Carpeta creada en: {reportes_path}\")\n",
        "\n",
        "# Generar reportes para cada cliente\n",
        "for cliente in clientes:\n",
        "    print(f\"Generando reporte para el cliente: {cliente}\")\n",
        "    datos = df[df[\"Cliente\"] == cliente]\n",
        "    total_importe = datos[\"Importe\"].sum()\n",
        "    total_pagado = datos[\"Pagado\"].sum()\n",
        "    total_saldo = datos[\"Saldo\"].sum()\n",
        "\n",
        "    # Crear gráfico con Plotly\n",
        "    fig = px.bar(datos, x=\"Producto\", y=[\"Importe\", \"Pagado\"], barmode=\"group\",\n",
        "                 title=\"Importe vs Pagado\", color_discrete_sequence=[\"#4472C4\", \"#A9D18E\"])\n",
        "\n",
        "    # Guardar el gráfico como imagen\n",
        "    grafico_path = f\"{reportes_path}/{cliente}_grafico.png\"\n",
        "    fig.write_image(grafico_path, width=800, height=400)\n",
        "\n",
        "    # Confirmar que el gráfico fue guardado\n",
        "    print(f\"Gráfico guardado en: {grafico_path}\")\n",
        "\n",
        "    # Crear tabla en HTML\n",
        "    tabla = datos[[\"Producto\", \"Fecha Venta\", \"Importe\", \"Pagado\", \"Saldo\"]].copy()\n",
        "    tabla[\"Fecha Venta\"] = tabla[\"Fecha Venta\"].dt.strftime(\"%Y-%m-%d\")\n",
        "    tabla_html = tabla.to_html(index=False, classes='styled-table', border=0)\n",
        "\n",
        "    # Template HTML con el filtro de formateo de número\n",
        "    template_html = env.from_string(\"\"\"\n",
        "    <html>\n",
        "    <head><meta charset=\"utf-8\">\n",
        "    <style>\n",
        "    body { font-family: Helvetica, sans-serif; padding: 20px; }\n",
        "    h1 { color: #4472C4; }\n",
        "    .styled-table {\n",
        "        width: 100%;\n",
        "        border-collapse: collapse;\n",
        "        margin-top: 20px;\n",
        "        font-size: 12px;\n",
        "    }\n",
        "    .styled-table th {\n",
        "        background-color: #4472C4;\n",
        "        color: white;\n",
        "        text-align: center;\n",
        "    }\n",
        "    .styled-table td {\n",
        "        text-align: center;\n",
        "        border: 1px solid #ccc;\n",
        "        padding: 4px;\n",
        "    }\n",
        "    </style>\n",
        "    </head>\n",
        "    <body>\n",
        "    <h1>Resumen de Cuenta - {{ cliente }}</h1>\n",
        "    <p><strong>Fecha de reporte:</strong> {{ fecha }}</p>\n",
        "    <p><strong>Total Facturado:</strong> ${{ total_importe|format_number }}</p>\n",
        "    <p><strong>Total Pagado:</strong> ${{ total_pagado|format_number }}</p>\n",
        "    <p><strong>Saldo Pendiente:</strong> ${{ total_saldo|format_number }}</p>\n",
        "    <img src=\"{{ grafico }}\" width=\"700\">\n",
        "    {{ tabla|safe }}\n",
        "    </body></html>\n",
        "    \"\"\")\n",
        "\n",
        "    html = template_html.render(\n",
        "        cliente=cliente,\n",
        "        fecha=datetime.today().strftime(\"%Y-%m-%d\"),\n",
        "        total_importe=total_importe,\n",
        "        total_pagado=total_pagado,\n",
        "        total_saldo=total_saldo,\n",
        "        grafico=grafico_path,\n",
        "        tabla=tabla_html\n",
        "    )\n",
        "\n",
        "    # Guardar el PDF en la carpeta correcta\n",
        "    pdf_path = f\"{reportes_path}/{cliente}_reporte.pdf\"\n",
        "    with open(pdf_path, \"wb\") as f:\n",
        "        pisa.CreatePDF(html, dest=f)\n",
        "\n",
        "    # Confirmar que el PDF fue guardado\n",
        "    print(f\"PDF guardado en: {pdf_path}\")\n",
        "\n",
        "# Verificar si los archivos fueron creados\n",
        "print(\"Archivos generados en:\", reportes_path)"
      ],
      "metadata": {
        "id": "RIHqE-3sKo6E"
      },
      "execution_count": null,
      "outputs": []
    },
    {
      "cell_type": "markdown",
      "source": [
        "**AGOSTINA MARINI STASI**\n",
        "\n",
        "Github: *https://github.com/agostinamarini*\n",
        "\n",
        "LinkedIn: *www.linkedin.com/in/agostina-marini-1b18a31b3*"
      ],
      "metadata": {
        "id": "VbCDK2FeOWu9"
      }
    }
  ]
}